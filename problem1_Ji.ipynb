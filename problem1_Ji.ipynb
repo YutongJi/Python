{
 "cells": [
  {
   "cell_type": "markdown",
   "metadata": {},
   "source": [
    "# Problem Set 1 - DNA"
   ]
  },
  {
   "cell_type": "markdown",
   "metadata": {},
   "source": [
    "**Total points:** 30\n",
    "\n",
    "**Due:** Wednesday 14th February 7pm CET\n",
    "\n",
    "**Format:** IPython Notebook or python program\n",
    "\n",
    "*The number of points in this problem sheet is *not* directly proportional to the difficulty. In fact, Part 3 is more difficult than Part 1 and 2, but is worth fewer points in terms of the amount of work/code, and are there for people who enjoy challenges. So you can choose to not complete Part 3, and you should still be able to get more than 60% of points from the previous questions if you answer them correctly.*"
   ]
  },
  {
   "cell_type": "markdown",
   "metadata": {},
   "source": [
    "\n",
    "## Part 1 (10 points)"
   ]
  },
  {
   "cell_type": "markdown",
   "metadata": {},
   "source": [
    "\n",
    "### Question 1 (6 points)"
   ]
  },
  {
   "cell_type": "code",
   "execution_count": 1,
   "metadata": {
    "collapsed": false
   },
   "outputs": [
    {
     "name": "stdout",
     "output_type": "stream",
     "text": [
      "Question_1:the reverse complement is:\n",
      " GCGTAATCGGGCTCGGCTAATGCCATCGATTAGGTACGATCCGCGCAT \n",
      "\n",
      "\n"
     ]
    }
   ],
   "source": [
    "import os\n",
    "datadir=os.environ['PYCOURSEDATA']\n",
    "def reverse_complement(str):\n",
    "    d={'A':'T','T':'A','C':'G','G':'C'}#dictionary between dna and its reverse complement\n",
    "    str_new=''\n",
    "    for i in str:\n",
    "        str_new=str_new+d[i]\n",
    "    return str_new[::-1]#reverse the string\n",
    "str2='ATGCGCGGATCGTACCTAATCGATGGCATTAGCCGAGCCCGATTACGC'\n",
    "\n",
    "print ('Question_1:the reverse complement is:\\n' ,reverse_complement(str2),'\\n\\n')"
   ]
  },
  {
   "cell_type": "markdown",
   "metadata": {},
   "source": [
    "### Question 2 (4 points)"
   ]
  },
  {
   "cell_type": "code",
   "execution_count": 2,
   "metadata": {
    "collapsed": true
   },
   "outputs": [],
   "source": [
    "def dna_to_mrna(dna):\n",
    "    mrna=''\n",
    "    for j in dna:\n",
    "        if j=='T':\n",
    "            mrna=mrna+'U'#change T to U\n",
    "        else:\n",
    "            mrna=mrna+j\n",
    "    return (mrna)"
   ]
  },
  {
   "cell_type": "markdown",
   "metadata": {},
   "source": [
    "## Part 2 (15 points)"
   ]
  },
  {
   "cell_type": "markdown",
   "metadata": {},
   "source": [
    "### Question 3 (8 points)"
   ]
  },
  {
   "cell_type": "code",
   "execution_count": 4,
   "metadata": {
    "collapsed": false
   },
   "outputs": [
    {
     "name": "stdout",
     "output_type": "stream",
     "text": [
      "Question 3:the aminon acid sequence is:\n",
      " NLYGSRSVLIDQSIGRRFRSDCTAG \n",
      "\n",
      "\n"
     ]
    }
   ],
   "source": [
    "d='AATCTCTACGGAAGTAGGTCAGTACTGATCGATCAGTCGATCGGGCGGCGATTTCGATCTGATTGTACGGCGGGCTAG'\n",
    "f3=open(datadir+'/problem_1_codons.txt')\n",
    "#below is a dictionary \n",
    "d_mrna_protein={}\n",
    "for line in f3:    \n",
    "    columes=line.split()\n",
    "    mrna=columes[0]\n",
    "    protein=columes[1]\n",
    "    d_mrna_protein[columes[0]]=columes[1]\n",
    "\n",
    "#mrna to protein\n",
    "def mrna_to_protein(long_mrna):\n",
    "    i=0\n",
    "    p=''\n",
    "    mrna=''\n",
    "    for k in long_mrna:\n",
    "        mrna=mrna+k\n",
    "        if len(mrna)>2:\n",
    "            m=d_mrna_protein[mrna]\n",
    "            if m=='Stop':\n",
    "                break\n",
    "            p=p+m\n",
    "            mrna=''\n",
    "    return p\n",
    "\n",
    "#dna to protein        \n",
    "def dna_to_protein(long_dna):\n",
    "    long_mrna=dna_to_mrna(long_dna)\n",
    "    protein=mrna_to_protein(long_mrna)\n",
    "    return (protein)\n",
    "\n",
    "print('Question 3:the aminon acid sequence is:\\n',dna_to_protein(d),'\\n\\n')"
   ]
  },
  {
   "cell_type": "markdown",
   "metadata": {},
   "source": [
    "### Question 4 (7 points)"
   ]
  },
  {
   "cell_type": "code",
   "execution_count": 8,
   "metadata": {
    "collapsed": false
   },
   "outputs": [
    {
     "name": "stdout",
     "output_type": "stream",
     "text": [
      "Question4: the lable and amino acid sequence is:\n",
      "sequence_02\n",
      "sequence_20\n",
      "sequence_01\n",
      "sequence_11\n",
      "sequence_04\n",
      "sequence_06\n",
      "sequence_09\n",
      "sequence_05\n",
      "sequence_19\n",
      "sequence_10\n",
      "sequence_17\n",
      "sequence_18\n",
      "sequence_08\n",
      "sequence_12\n",
      "sequence_14\n",
      "sequence_16\n",
      "sequence_13\n",
      "sequence_07\n",
      "sequence_03\n",
      "sequence_15\n",
      "RSFCTGHPSYCRLFFGRKMQSSFAPR\n",
      "CASAYSPKGRAAKLVLLK\n",
      "YKFAGYQAIIGPRPATSKGLRLTAIQWRHLRWPIICIPEEHWY\n",
      "RALGATVNMLGYHVFPN\n",
      "CMSSRNAITGCITCVGHIMGVRLYD\n",
      "CIEPELQATRVKATFSFASCPSDMFSKSPL\n",
      "LTFEFLARGDQFSTWWL\n",
      "TLITPLGYPGRIGELRGLVYVRGHHQVPSMCTYS\n",
      "GLLPDSYRVSLSLQRTTLCLTIVCSGLCGLPDLMNLESRFHMQSVTF\n",
      "PSENPNVSSRPPPMIFTDFT\n",
      "KCRRFRQTTTYKPCSCSVIRCTREQQD\n",
      "LELFGEDDTVE\n",
      "DPLRFSVGTERRGSALVFFILGGI\n",
      "RPFPAVCRIKFFWPYISIKEGSANASNTTNC\n",
      "IMTNPTLNKDTA\n",
      "AIRCRVAIESDLTVVARLVYIVPCTPSDSRNYPNSSGFKPISKTQNL\n",
      "LKGIIRCSDSNCSSPIFGPSQEIQM\n",
      "CVARTGWQMRTAPVSFAPSPPINAPKRTPSIRWMSFLIP\n",
      "RPERFGASRYTICVHVSDNPPVSTLLSKEQTGGA\n",
      "GQQHSMGTLYKM\n",
      "\n",
      "\n",
      "\n"
     ]
    }
   ],
   "source": [
    "di={}#dictionary for sequence name and corresponding DNA sequence\n",
    "def readfasta(filename):\n",
    "    f4=open(filename)\n",
    "#    f4=open(datadir+filename)\n",
    "\n",
    "    for line in f4:\n",
    "        if line[0]=='>':\n",
    "            dna=''\n",
    "            s=line[1:-1]\n",
    "            continue\n",
    "        dna=dna+line\n",
    "        dna=dna.replace('\\n','')\n",
    "        di.update({s:dna})\n",
    "    return di\n",
    "\n",
    "\n",
    "di = readfasta('data/problem_1_question_4.fasta')\n",
    "keys=di.keys()\n",
    "values=di.values()\n",
    "##print lables and amino acid sequence\n",
    "print ('Question4: the lable and amino acid sequence is:')\n",
    "for i in keys:print (i)\n",
    "for i in values:\n",
    "    value=dna_to_protein(i)\n",
    "    print(value)\n",
    "print('\\n\\n')"
   ]
  },
  {
   "cell_type": "markdown",
   "metadata": {},
   "source": [
    "** HLudwig: The result above is basically correct. However, you print the sequence label separate from the proteine sequence which makes it hard to me to find, e.g. sequence_09. **"
   ]
  },
  {
   "cell_type": "markdown",
   "metadata": {},
   "source": [
    "## Part 3 (5 points)"
   ]
  },
  {
   "cell_type": "markdown",
   "metadata": {},
   "source": [
    "### Question 5 (3 points)"
   ]
  },
  {
   "cell_type": "code",
   "execution_count": 10,
   "metadata": {
    "collapsed": false
   },
   "outputs": [
    {
     "name": "stdout",
     "output_type": "stream",
     "text": [
      "Question5: the consensus sequence is:\n",
      " GTACTAGCCGATCAGCTAGCTACGATCGTACGTTAA\n"
     ]
    }
   ],
   "source": [
    "##My notebook has some problems in access the problem_1_question_5.fasta,but it is okay \n",
    "##with problem_1_question_4.fasta. I haven't found the reason. So i just copy the method in question4 \n",
    "##instead of running 'aa=readfasta('problem_1_question_5.fasta').values()'\n",
    "f4=open('data/problem_1_question_5.fasta','r')\n",
    "s=''\n",
    "dna=''\n",
    "d={}\n",
    "mi=[]\n",
    "for line in f4:\n",
    "    if line[0]=='>':\n",
    "        dna=''\n",
    "        s=line[1:-1]\n",
    "        continue\n",
    "    dna=dna+line\n",
    "    dna=dna.replace('\\n','')\n",
    "    d.update({s:dna})\n",
    "aa=d.values()     \n",
    "#i did this above just for getting the dna sequences in the file as a tulpe\n",
    "\n",
    "mi=[]\n",
    "cir={0:'A',1:'T',2:'C',3:'G'} \n",
    "#this above is a dictionary to get the most commom letters for a given value of b\n",
    "def consensus_sequence():\n",
    "    q=''\n",
    "    for k in aa:\n",
    "        mi.append(k)#get the sequences in a list mi\n",
    "    for p in zip(*mi):\n",
    "        na=p.count('A')#na is the number that 'A' appears\n",
    "        nt=p.count('T')\n",
    "        nc=p.count('C')\n",
    "        ng=p.count('G')\n",
    "        z=[na,nt,nc,ng]#I put the numbers of A,T,C,G in a list so as compare them and get the location/index of\n",
    "                        #the biggest one,so I can link this to the DNA nucleobase(A,T,C,G) using the dictionary(cir)\n",
    "        q=q+cir[int(maxi(z))]#cir[int(maxi(z))] is the most common letter,and q is a string of all this letters\n",
    "    return (q)\n",
    "    \n",
    "def maxi(g):\n",
    "    b=0\n",
    "    maximum=int(g[0])\n",
    "    for n in range(1,4):\n",
    "        if int(g[n])>maximum:\n",
    "            maximum=int(g[n])\n",
    "            b=n#b is the index of the biggest number in na,nt,nc,ng\n",
    "    return b\n",
    "#the function above is to get the answer:which is biggest in na,nc,nt,ng and n is actually their location/index \n",
    "\n",
    "\n",
    "        \n",
    "print('Question5: the consensus sequence is:\\n',consensus_sequence())"
   ]
  },
  {
   "cell_type": "markdown",
   "metadata": {},
   "source": [
    "** HLudwig: Some of your formulations are a bit complicted, e.g., converting a string into a list of individual characters. You could have done this with out a loop simply by list('abcde'). **"
   ]
  },
  {
   "cell_type": "markdown",
   "metadata": {},
   "source": [
    "### Question 6 (2 points)"
   ]
  },
  {
   "cell_type": "markdown",
   "metadata": {},
   "source": [
    "In some cases, it is useful to be able to identify the longest common sub-sequence between two sequences. For example, in the sequences ``ACTGCT`` and ``TGCCCT``, the longest common sub-sequence is ``TGC`` (AC**TGC**T and **TGC**CCT). Note that these do not have to be at the same positon in each sequence.\n",
    "\n",
    "Write a function, ``longest_common_sequence``, that takes a dictionary of sequences (such as the one returned by ``read_fasta``) and returns the longest common sub-sequence found in all the sequences.\n",
    "\n",
    "Read the [data/problem_1_question_6.fasta](data/problem_1_question_6.fasta) file, and print out the longest common sequence between all the sequences."
   ]
  },
  {
   "cell_type": "markdown",
   "metadata": {},
   "source": [
    "** HLudwig: I was impressed that you solved question 5! Well done. **"
   ]
  }
 ],
 "metadata": {
  "anaconda-cloud": {},
  "kernelspec": {
   "display_name": "Python 3",
   "language": "python",
   "name": "python3"
  },
  "language_info": {
   "codemirror_mode": {
    "name": "ipython",
    "version": 3
   },
   "file_extension": ".py",
   "mimetype": "text/x-python",
   "name": "python",
   "nbconvert_exporter": "python",
   "pygments_lexer": "ipython3",
   "version": "3.4.1"
  }
 },
 "nbformat": 4,
 "nbformat_minor": 1
}
